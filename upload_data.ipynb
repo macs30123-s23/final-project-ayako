{
 "cells": [
  {
   "cell_type": "code",
   "execution_count": 1,
   "metadata": {},
   "outputs": [],
   "source": [
    "import boto3\n",
    "import json\n",
    "import pandas as pd"
   ]
  },
  {
   "attachments": {},
   "cell_type": "markdown",
   "metadata": {},
   "source": [
    "## Upload csv file downloaded from kaggle. \n",
    "\n",
    "https://www.kaggle.com/datasets/zanjibar/100-million-data-csv"
   ]
  },
  {
   "cell_type": "code",
   "execution_count": 26,
   "metadata": {},
   "outputs": [],
   "source": [
    "data = pd.read_csv(\"dataset/custom_1988_2020.csv\",\n",
    "                   header=None)"
   ]
  },
  {
   "cell_type": "code",
   "execution_count": 27,
   "metadata": {},
   "outputs": [
    {
     "data": {
      "text/plain": [
       "113607322"
      ]
     },
     "execution_count": 27,
     "metadata": {},
     "output_type": "execute_result"
    }
   ],
   "source": [
    "len(data)"
   ]
  },
  {
   "cell_type": "code",
   "execution_count": 28,
   "metadata": {},
   "outputs": [
    {
     "data": {
      "text/html": [
       "<div>\n",
       "<style scoped>\n",
       "    .dataframe tbody tr th:only-of-type {\n",
       "        vertical-align: middle;\n",
       "    }\n",
       "\n",
       "    .dataframe tbody tr th {\n",
       "        vertical-align: top;\n",
       "    }\n",
       "\n",
       "    .dataframe thead th {\n",
       "        text-align: right;\n",
       "    }\n",
       "</style>\n",
       "<table border=\"1\" class=\"dataframe\">\n",
       "  <thead>\n",
       "    <tr style=\"text-align: right;\">\n",
       "      <th></th>\n",
       "      <th>0</th>\n",
       "      <th>1</th>\n",
       "      <th>2</th>\n",
       "      <th>3</th>\n",
       "      <th>4</th>\n",
       "      <th>5</th>\n",
       "      <th>6</th>\n",
       "      <th>7</th>\n",
       "    </tr>\n",
       "  </thead>\n",
       "  <tbody>\n",
       "    <tr>\n",
       "      <th>0</th>\n",
       "      <td>198801</td>\n",
       "      <td>1</td>\n",
       "      <td>103</td>\n",
       "      <td>100</td>\n",
       "      <td>190</td>\n",
       "      <td>0</td>\n",
       "      <td>35843</td>\n",
       "      <td>34353</td>\n",
       "    </tr>\n",
       "    <tr>\n",
       "      <th>1</th>\n",
       "      <td>198801</td>\n",
       "      <td>1</td>\n",
       "      <td>103</td>\n",
       "      <td>100</td>\n",
       "      <td>120991000</td>\n",
       "      <td>0</td>\n",
       "      <td>1590</td>\n",
       "      <td>4154</td>\n",
       "    </tr>\n",
       "    <tr>\n",
       "      <th>2</th>\n",
       "      <td>198801</td>\n",
       "      <td>1</td>\n",
       "      <td>103</td>\n",
       "      <td>100</td>\n",
       "      <td>210390900</td>\n",
       "      <td>0</td>\n",
       "      <td>4500</td>\n",
       "      <td>2565</td>\n",
       "    </tr>\n",
       "    <tr>\n",
       "      <th>3</th>\n",
       "      <td>198801</td>\n",
       "      <td>1</td>\n",
       "      <td>103</td>\n",
       "      <td>100</td>\n",
       "      <td>220890200</td>\n",
       "      <td>0</td>\n",
       "      <td>3000</td>\n",
       "      <td>757</td>\n",
       "    </tr>\n",
       "    <tr>\n",
       "      <th>4</th>\n",
       "      <td>198801</td>\n",
       "      <td>1</td>\n",
       "      <td>103</td>\n",
       "      <td>100</td>\n",
       "      <td>240220000</td>\n",
       "      <td>0</td>\n",
       "      <td>26000</td>\n",
       "      <td>40668</td>\n",
       "    </tr>\n",
       "    <tr>\n",
       "      <th>5</th>\n",
       "      <td>198801</td>\n",
       "      <td>1</td>\n",
       "      <td>103</td>\n",
       "      <td>100</td>\n",
       "      <td>250410000</td>\n",
       "      <td>0</td>\n",
       "      <td>5</td>\n",
       "      <td>8070</td>\n",
       "    </tr>\n",
       "    <tr>\n",
       "      <th>6</th>\n",
       "      <td>198801</td>\n",
       "      <td>1</td>\n",
       "      <td>103</td>\n",
       "      <td>100</td>\n",
       "      <td>271000700</td>\n",
       "      <td>0</td>\n",
       "      <td>374</td>\n",
       "      <td>2485</td>\n",
       "    </tr>\n",
       "    <tr>\n",
       "      <th>7</th>\n",
       "      <td>198801</td>\n",
       "      <td>1</td>\n",
       "      <td>103</td>\n",
       "      <td>100</td>\n",
       "      <td>271220000</td>\n",
       "      <td>0</td>\n",
       "      <td>400</td>\n",
       "      <td>616</td>\n",
       "    </tr>\n",
       "    <tr>\n",
       "      <th>8</th>\n",
       "      <td>198801</td>\n",
       "      <td>1</td>\n",
       "      <td>103</td>\n",
       "      <td>100</td>\n",
       "      <td>280300000</td>\n",
       "      <td>0</td>\n",
       "      <td>1900</td>\n",
       "      <td>2020</td>\n",
       "    </tr>\n",
       "    <tr>\n",
       "      <th>9</th>\n",
       "      <td>198801</td>\n",
       "      <td>1</td>\n",
       "      <td>103</td>\n",
       "      <td>100</td>\n",
       "      <td>280610000</td>\n",
       "      <td>0</td>\n",
       "      <td>1000</td>\n",
       "      <td>227</td>\n",
       "    </tr>\n",
       "  </tbody>\n",
       "</table>\n",
       "</div>"
      ],
      "text/plain": [
       "        0  1    2    3          4  5      6      7\n",
       "0  198801  1  103  100        190  0  35843  34353\n",
       "1  198801  1  103  100  120991000  0   1590   4154\n",
       "2  198801  1  103  100  210390900  0   4500   2565\n",
       "3  198801  1  103  100  220890200  0   3000    757\n",
       "4  198801  1  103  100  240220000  0  26000  40668\n",
       "5  198801  1  103  100  250410000  0      5   8070\n",
       "6  198801  1  103  100  271000700  0    374   2485\n",
       "7  198801  1  103  100  271220000  0    400    616\n",
       "8  198801  1  103  100  280300000  0   1900   2020\n",
       "9  198801  1  103  100  280610000  0   1000    227"
      ]
     },
     "execution_count": 28,
     "metadata": {},
     "output_type": "execute_result"
    }
   ],
   "source": [
    "data.head(10)"
   ]
  },
  {
   "cell_type": "code",
   "execution_count": 29,
   "metadata": {},
   "outputs": [],
   "source": [
    "data.columns = [\"year_month\", \"export_import\", \"country\", \"custom\", \"hs9\", \"q1\", \"q2\", \"value\"]"
   ]
  },
  {
   "attachments": {},
   "cell_type": "markdown",
   "metadata": {},
   "source": [
    "convert to parquet file. "
   ]
  },
  {
   "cell_type": "code",
   "execution_count": 30,
   "metadata": {},
   "outputs": [],
   "source": [
    "data.to_parquet('dataset/trade_1988_2020.parquet', engine='fastparquet')"
   ]
  },
  {
   "cell_type": "code",
   "execution_count": 2,
   "metadata": {},
   "outputs": [],
   "source": [
    "s3 = boto3.client('s3')"
   ]
  },
  {
   "cell_type": "code",
   "execution_count": 3,
   "metadata": {},
   "outputs": [],
   "source": [
    "# Try to create the bucket\n",
    "try:\n",
    "    s3.create_bucket(Bucket='trade-final-project-bucket')\n",
    "except boto3.exceptions.S3ObjectAlreadyExistsError:\n",
    "    print()"
   ]
  },
  {
   "cell_type": "code",
   "execution_count": 3,
   "metadata": {},
   "outputs": [],
   "source": [
    "s3.upload_file(\"dataset/trade_1988_2020.parquet\", \"trade-final-project-bucket\", \"dataset/trade_1988_2020.parquet\")"
   ]
  }
 ],
 "metadata": {
  "kernelspec": {
   "display_name": "base",
   "language": "python",
   "name": "python3"
  },
  "language_info": {
   "codemirror_mode": {
    "name": "ipython",
    "version": 3
   },
   "file_extension": ".py",
   "mimetype": "text/x-python",
   "name": "python",
   "nbconvert_exporter": "python",
   "pygments_lexer": "ipython3",
   "version": "3.9.12"
  },
  "orig_nbformat": 4
 },
 "nbformat": 4,
 "nbformat_minor": 2
}
