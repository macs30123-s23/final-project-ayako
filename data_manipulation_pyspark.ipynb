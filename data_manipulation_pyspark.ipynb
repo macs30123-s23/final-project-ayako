{
 "cells": [
  {
   "cell_type": "markdown",
   "metadata": {},
   "source": [
    "## Data Manipulation\n",
    "\n",
    "In this notebook, I will combine the data (1988-2020) downloaded from Kaggle (https://www.kaggle.com/datasets/zanjibar/100-million-data-csv) and ones downloaded (2021-2023) scraped from e-stat (https://www.e-stat.go.jp/en/stat-search/database?page=1&layout=normal&toukei=00350300&tstat=000001013141&result_page=1&metadata=1&data=1). \n",
    "\n",
    "I utilize PySpark features to handle large datasets. "
   ]
  },
  {
   "cell_type": "code",
   "execution_count": 1,
   "metadata": {},
   "outputs": [
    {
     "data": {
      "text/html": [
       "Current session configs: <tt>{'conf': {'spark.pyspark.python': 'python3', 'spark.pyspark.virtualenv.enabled': 'true', 'spark.pyspark.virtualenv.type': 'native', 'spark.pyspark.virtualenv.bin.path': '/usr/bin/virtualenv'}, 'proxyUser': 'jovyan', 'kind': 'pyspark'}</tt><br>"
      ],
      "text/plain": [
       "<IPython.core.display.HTML object>"
      ]
     },
     "metadata": {},
     "output_type": "display_data"
    },
    {
     "data": {
      "text/html": [
       "No active sessions."
      ],
      "text/plain": [
       "<IPython.core.display.HTML object>"
      ]
     },
     "metadata": {},
     "output_type": "display_data"
    }
   ],
   "source": [
    "%%configure -f\n",
    "{\n",
    "    \"conf\": {\n",
    "        \"spark.pyspark.python\": \"python3\",\n",
    "        \"spark.pyspark.virtualenv.enabled\": \"true\",\n",
    "        \"spark.pyspark.virtualenv.type\":\"native\",\n",
    "        \"spark.pyspark.virtualenv.bin.path\":\"/usr/bin/virtualenv\"\n",
    "    }\n",
    "}"
   ]
  },
  {
   "cell_type": "code",
   "execution_count": 2,
   "metadata": {},
   "outputs": [
    {
     "name": "stdout",
     "output_type": "stream",
     "text": [
      "Starting Spark application\n"
     ]
    },
    {
     "data": {
      "text/html": [
       "<table>\n",
       "<tr><th>ID</th><th>YARN Application ID</th><th>Kind</th><th>State</th><th>Spark UI</th><th>Driver log</th><th>Current session?</th></tr><tr><td>1</td><td>application_1684335481023_0003</td><td>pyspark</td><td>idle</td><td><a target=\"_blank\" href=\"http://ip-172-31-25-20.ec2.internal:20888/proxy/application_1684335481023_0003/\">Link</a></td><td><a target=\"_blank\" href=\"http://ip-172-31-29-154.ec2.internal:8042/node/containerlogs/container_1684335481023_0003_01_000001/livy\">Link</a></td><td>✔</td></tr></table>"
      ],
      "text/plain": [
       "<IPython.core.display.HTML object>"
      ]
     },
     "metadata": {},
     "output_type": "display_data"
    },
    {
     "data": {
      "application/vnd.jupyter.widget-view+json": {
       "model_id": "",
       "version_major": 2,
       "version_minor": 0
      },
      "text/plain": [
       "FloatProgress(value=0.0, bar_style='info', description='Progress:', layout=Layout(height='25px', width='50%'),…"
      ]
     },
     "metadata": {},
     "output_type": "display_data"
    },
    {
     "name": "stdout",
     "output_type": "stream",
     "text": [
      "SparkSession available as 'spark'.\n"
     ]
    },
    {
     "data": {
      "application/vnd.jupyter.widget-view+json": {
       "model_id": "",
       "version_major": 2,
       "version_minor": 0
      },
      "text/plain": [
       "FloatProgress(value=0.0, bar_style='info', description='Progress:', layout=Layout(height='25px', width='50%'),…"
      ]
     },
     "metadata": {},
     "output_type": "display_data"
    }
   ],
   "source": [
    "from pyspark.sql.types import StringType, LongType\n",
    "\n",
    "import pyspark.sql.functions as F"
   ]
  },
  {
   "cell_type": "code",
   "execution_count": 3,
   "metadata": {},
   "outputs": [
    {
     "data": {
      "application/vnd.jupyter.widget-view+json": {
       "model_id": "",
       "version_major": 2,
       "version_minor": 0
      },
      "text/plain": [
       "FloatProgress(value=0.0, bar_style='info', description='Progress:', layout=Layout(height='25px', width='50%'),…"
      ]
     },
     "metadata": {},
     "output_type": "display_data"
    }
   ],
   "source": [
    "def translate(dictionary):\n",
    "    return F.udf(lambda col: dictionary.get(col),\n",
    "               StringType())"
   ]
  },
  {
   "cell_type": "markdown",
   "metadata": {},
   "source": [
    "### Modify export data"
   ]
  },
  {
   "cell_type": "code",
   "execution_count": 4,
   "metadata": {},
   "outputs": [
    {
     "data": {
      "application/vnd.jupyter.widget-view+json": {
       "model_id": "",
       "version_major": 2,
       "version_minor": 0
      },
      "text/plain": [
       "FloatProgress(value=0.0, bar_style='info', description='Progress:', layout=Layout(height='25px', width='50%'),…"
      ]
     },
     "metadata": {},
     "output_type": "display_data"
    }
   ],
   "source": [
    "data = spark.read.csv('s3://trade-final-project-bucket/dataset/trade_ex_2021_2023.csv')"
   ]
  },
  {
   "cell_type": "code",
   "execution_count": 5,
   "metadata": {},
   "outputs": [
    {
     "data": {
      "application/vnd.jupyter.widget-view+json": {
       "model_id": "",
       "version_major": 2,
       "version_minor": 0
      },
      "text/plain": [
       "FloatProgress(value=0.0, bar_style='info', description='Progress:', layout=Layout(height='25px', width='50%'),…"
      ]
     },
     "metadata": {},
     "output_type": "display_data"
    },
    {
     "name": "stdout",
     "output_type": "stream",
     "text": [
      "Total Columns: 12\n",
      "Total Rows: 14634720\n",
      "root\n",
      " |-- _c0: string (nullable = true)\n",
      " |-- _c1: string (nullable = true)\n",
      " |-- _c2: string (nullable = true)\n",
      " |-- _c3: string (nullable = true)\n",
      " |-- _c4: string (nullable = true)\n",
      " |-- _c5: string (nullable = true)\n",
      " |-- _c6: string (nullable = true)\n",
      " |-- _c7: string (nullable = true)\n",
      " |-- _c8: string (nullable = true)\n",
      " |-- _c9: string (nullable = true)\n",
      " |-- _c10: string (nullable = true)\n",
      " |-- _c11: string (nullable = true)"
     ]
    }
   ],
   "source": [
    "print('Total Columns: %d' % len(data.dtypes))\n",
    "print('Total Rows: %d' % data.count())\n",
    "data.printSchema()"
   ]
  },
  {
   "cell_type": "code",
   "execution_count": 6,
   "metadata": {},
   "outputs": [
    {
     "data": {
      "application/vnd.jupyter.widget-view+json": {
       "model_id": "",
       "version_major": 2,
       "version_minor": 0
      },
      "text/plain": [
       "FloatProgress(value=0.0, bar_style='info', description='Progress:', layout=Layout(height='25px', width='50%'),…"
      ]
     },
     "metadata": {},
     "output_type": "display_data"
    },
    {
     "name": "stdout",
     "output_type": "stream",
     "text": [
      "+----+----------+----------------+----------+----------------------+---------+------------------+----------+------------+----+-----+----------+\n",
      "| _c0|       _c1|             _c2|       _c3|                   _c4|      _c5|               _c6|       _c7|         _c8| _c9| _c10|      _c11|\n",
      "+----+----------+----------------+----------+----------------------+---------+------------------+----------+------------+----+-----+----------+\n",
      "|null|cat01_code|統計品目表(輸出)|cat02_code|統計品目表の数量・金額|area_code|                国| time_code|時間軸(年次)|unit|value|annotation|\n",
      "|   0| 010121000|       010121000|       110|                 単位2|    50103|      103_大韓民国|2022000000|      2022年|null| ＮＯ|      null|\n",
      "|   1| 010121000|       010121000|       110|                 単位2|    50205|          205_英国|2022000000|      2022年|null| ＮＯ|      null|\n",
      "|   2| 010121000|       010121000|       110|                 単位2|    50213|        213_ドイツ|2022000000|      2022年|null| ＮＯ|      null|\n",
      "|   3| 010121000|       010121000|       110|                 単位2|    50213|        213_ドイツ|2021000000|      2021年|null| ＮＯ|      null|\n",
      "|   4| 010121000|       010121000|       110|                 単位2|    50234|        234_トルコ|2023000000|      2023年|null| ＮＯ|      null|\n",
      "|   5| 010121000|       010121000|       110|                 単位2|    50234|        234_トルコ|2021000000|      2021年|null| ＮＯ|      null|\n",
      "|   6| 010121000|       010121000|       110|                 単位2|    50304|304_アメリカ合衆国|2022000000|      2022年|null| ＮＯ|      null|\n",
      "|   7| 010121000|       010121000|       110|                 単位2|    50601|601_オーストラリア|2023000000|      2023年|null| ＮＯ|      null|\n",
      "|   8| 010121000|       010121000|       110|                 単位2|    50601|601_オーストラリア|2022000000|      2022年|null| ＮＯ|      null|\n",
      "|   9| 010121000|       010121000|       110|                 単位2|    50601|601_オーストラリア|2021000000|      2021年|null| ＮＯ|      null|\n",
      "|  10| 010121000|       010121000|       120|            合計_数量1|    50103|      103_大韓民国|2022000000|      2022年|null|    0|      null|\n",
      "|  11| 010121000|       010121000|       120|            合計_数量1|    50205|          205_英国|2022000000|      2022年|null|    0|      null|\n",
      "|  12| 010121000|       010121000|       120|            合計_数量1|    50213|        213_ドイツ|2022000000|      2022年|null|    0|      null|\n",
      "|  13| 010121000|       010121000|       120|            合計_数量1|    50213|        213_ドイツ|2021000000|      2021年|null|    0|      null|\n",
      "|  14| 010121000|       010121000|       120|            合計_数量1|    50234|        234_トルコ|2023000000|      2023年|null|    0|      null|\n",
      "|  15| 010121000|       010121000|       120|            合計_数量1|    50234|        234_トルコ|2021000000|      2021年|null|    0|      null|\n",
      "|  16| 010121000|       010121000|       120|            合計_数量1|    50304|304_アメリカ合衆国|2022000000|      2022年|null|    0|      null|\n",
      "|  17| 010121000|       010121000|       120|            合計_数量1|    50601|601_オーストラリア|2023000000|      2023年|null|    0|      null|\n",
      "|  18| 010121000|       010121000|       120|            合計_数量1|    50601|601_オーストラリア|2022000000|      2022年|null|    0|      null|\n",
      "+----+----------+----------------+----------+----------------------+---------+------------------+----------+------------+----+-----+----------+\n",
      "only showing top 20 rows"
     ]
    }
   ],
   "source": [
    "data.show()"
   ]
  },
  {
   "cell_type": "code",
   "execution_count": 51,
   "metadata": {},
   "outputs": [
    {
     "data": {
      "application/vnd.jupyter.widget-view+json": {
       "model_id": "",
       "version_major": 2,
       "version_minor": 0
      },
      "text/plain": [
       "FloatProgress(value=0.0, bar_style='info', description='Progress:', layout=Layout(height='25px', width='50%'),…"
      ]
     },
     "metadata": {},
     "output_type": "display_data"
    },
    {
     "name": "stdout",
     "output_type": "stream",
     "text": [
      "[150, 160, 170, 180, 190, 200, 210, 220, 230, 240, 250, 260, 270, 280, 290, 300, 310, 320, 330, 340, 350, 360, 370, 380, 390, 400, 410, 420, 430, 440, 450, 460, 470, 480, 490, 500]"
     ]
    }
   ],
   "source": [
    "cat2 = [i for i in range(150, 501, 10)]\n",
    "cat2"
   ]
  },
  {
   "cell_type": "code",
   "execution_count": 8,
   "metadata": {},
   "outputs": [
    {
     "data": {
      "application/vnd.jupyter.widget-view+json": {
       "model_id": "",
       "version_major": 2,
       "version_minor": 0
      },
      "text/plain": [
       "FloatProgress(value=0.0, bar_style='info', description='Progress:', layout=Layout(height='25px', width='50%'),…"
      ]
     },
     "metadata": {},
     "output_type": "display_data"
    }
   ],
   "source": [
    "data = data.withColumn(\"_c3\", data._c3.cast('int')).filter(data._c3.isin(cat2))"
   ]
  },
  {
   "cell_type": "code",
   "execution_count": 9,
   "metadata": {},
   "outputs": [
    {
     "data": {
      "application/vnd.jupyter.widget-view+json": {
       "model_id": "",
       "version_major": 2,
       "version_minor": 0
      },
      "text/plain": [
       "FloatProgress(value=0.0, bar_style='info', description='Progress:', layout=Layout(height='25px', width='50%'),…"
      ]
     },
     "metadata": {},
     "output_type": "display_data"
    },
    {
     "name": "stdout",
     "output_type": "stream",
     "text": [
      "{150: '01', 160: '01', 170: '01', 180: '02', 190: '02', 200: '02', 210: '03', 220: '03', 230: '03', 240: '04', 250: '04', 260: '04', 270: '05', 280: '05', 290: '05', 300: '06', 310: '06', 320: '06', 330: '07', 340: '07', 350: '07', 360: '08', 370: '08', 380: '08', 390: '09', 400: '09', 410: '09', 420: '10', 430: '10', 440: '10', 450: '11', 460: '11', 470: '11', 480: '12', 490: '12', 500: '12'}"
     ]
    }
   ],
   "source": [
    "cat2_month = {i:(\"0\"+str(1+(e)//3)) for e,i in enumerate(range(150, 411, 10))}\n",
    "cat2_month.update({i:(\"1\"+str(e//3)) for e,i in enumerate(range(420, 501, 10))})\n",
    "cat2_month"
   ]
  },
  {
   "cell_type": "code",
   "execution_count": 10,
   "metadata": {},
   "outputs": [
    {
     "data": {
      "application/vnd.jupyter.widget-view+json": {
       "model_id": "",
       "version_major": 2,
       "version_minor": 0
      },
      "text/plain": [
       "FloatProgress(value=0.0, bar_style='info', description='Progress:', layout=Layout(height='25px', width='50%'),…"
      ]
     },
     "metadata": {},
     "output_type": "display_data"
    }
   ],
   "source": [
    "data = data.withColumn(\"month\",\n",
    "              translate(cat2_month)(\"_c3\"))"
   ]
  },
  {
   "cell_type": "code",
   "execution_count": 11,
   "metadata": {},
   "outputs": [
    {
     "data": {
      "application/vnd.jupyter.widget-view+json": {
       "model_id": "",
       "version_major": 2,
       "version_minor": 0
      },
      "text/plain": [
       "FloatProgress(value=0.0, bar_style='info', description='Progress:', layout=Layout(height='25px', width='50%'),…"
      ]
     },
     "metadata": {},
     "output_type": "display_data"
    },
    {
     "name": "stdout",
     "output_type": "stream",
     "text": [
      "+---------+---+-----+----------+----+-----+\n",
      "|      _c1|_c3|  _c5|       _c7|_c10|month|\n",
      "+---------+---+-----+----------+----+-----+\n",
      "|010121000|150|50103|2022000000|   0|   01|\n",
      "|010121000|150|50205|2022000000|   0|   01|\n",
      "|010121000|150|50213|2022000000|   0|   01|\n",
      "|010121000|150|50213|2021000000|   0|   01|\n",
      "|010121000|150|50234|2023000000|   0|   01|\n",
      "|010121000|150|50234|2021000000|   0|   01|\n",
      "|010121000|150|50304|2022000000|   0|   01|\n",
      "|010121000|150|50601|2023000000|   0|   01|\n",
      "|010121000|150|50601|2022000000|   0|   01|\n",
      "|010121000|150|50601|2021000000|   0|   01|\n",
      "|010121000|160|50103|2022000000|   0|   01|\n",
      "|010121000|160|50205|2022000000|   0|   01|\n",
      "|010121000|160|50213|2022000000|   0|   01|\n",
      "|010121000|160|50213|2021000000|   4|   01|\n",
      "|010121000|160|50234|2023000000|   0|   01|\n",
      "|010121000|160|50234|2021000000|   0|   01|\n",
      "|010121000|160|50304|2022000000|   0|   01|\n",
      "|010121000|160|50601|2023000000|   0|   01|\n",
      "|010121000|160|50601|2022000000|   0|   01|\n",
      "|010121000|160|50601|2021000000|   0|   01|\n",
      "+---------+---+-----+----------+----+-----+\n",
      "only showing top 20 rows"
     ]
    }
   ],
   "source": [
    "data[[\"_c1\",\"_c3\", \"_c5\", \"_c7\", \"_c10\", \"month\"]].show()"
   ]
  },
  {
   "cell_type": "code",
   "execution_count": 12,
   "metadata": {},
   "outputs": [
    {
     "data": {
      "application/vnd.jupyter.widget-view+json": {
       "model_id": "",
       "version_major": 2,
       "version_minor": 0
      },
      "text/plain": [
       "FloatProgress(value=0.0, bar_style='info', description='Progress:', layout=Layout(height='25px', width='50%'),…"
      ]
     },
     "metadata": {},
     "output_type": "display_data"
    }
   ],
   "source": [
    "data = (data.withColumn(\"year\",F.substring(\"_c7\", 1,4))\n",
    "            .withColumn(\"country\", F.substring(\"_c5\", 3, 5))\n",
    "            .withColumn(\"export_import\", F.lit(1))\n",
    "            .withColumn(\"custom\", F.lit(0))\n",
    "            .withColumnRenamed(\"_c1\",\"hs9\")\n",
    "            .withColumnRenamed(\"_c10\", \"value\")\n",
    "       )"
   ]
  },
  {
   "cell_type": "code",
   "execution_count": 13,
   "metadata": {},
   "outputs": [
    {
     "data": {
      "application/vnd.jupyter.widget-view+json": {
       "model_id": "",
       "version_major": 2,
       "version_minor": 0
      },
      "text/plain": [
       "FloatProgress(value=0.0, bar_style='info', description='Progress:', layout=Layout(height='25px', width='50%'),…"
      ]
     },
     "metadata": {},
     "output_type": "display_data"
    }
   ],
   "source": [
    "data = data.select(\"_c3\", \"hs9\", \"export_import\", \"country\", \"custom\", \"year\", \"month\", \"value\")"
   ]
  },
  {
   "cell_type": "code",
   "execution_count": 14,
   "metadata": {},
   "outputs": [
    {
     "data": {
      "application/vnd.jupyter.widget-view+json": {
       "model_id": "",
       "version_major": 2,
       "version_minor": 0
      },
      "text/plain": [
       "FloatProgress(value=0.0, bar_style='info', description='Progress:', layout=Layout(height='25px', width='50%'),…"
      ]
     },
     "metadata": {},
     "output_type": "display_data"
    }
   ],
   "source": [
    "data = data.withColumn(\"year_month\", F.concat(data.year,data.month))"
   ]
  },
  {
   "cell_type": "code",
   "execution_count": 15,
   "metadata": {},
   "outputs": [
    {
     "data": {
      "application/vnd.jupyter.widget-view+json": {
       "model_id": "",
       "version_major": 2,
       "version_minor": 0
      },
      "text/plain": [
       "FloatProgress(value=0.0, bar_style='info', description='Progress:', layout=Layout(height='25px', width='50%'),…"
      ]
     },
     "metadata": {},
     "output_type": "display_data"
    },
    {
     "name": "stdout",
     "output_type": "stream",
     "text": [
      "+---+---------+-------------+-------+------+----+-----+-----+----------+\n",
      "|_c3|      hs9|export_import|country|custom|year|month|value|year_month|\n",
      "+---+---------+-------------+-------+------+----+-----+-----+----------+\n",
      "|150|010121000|            1|    103|     0|2022|   01|    0|    202201|\n",
      "+---+---------+-------------+-------+------+----+-----+-----+----------+\n",
      "only showing top 1 row"
     ]
    }
   ],
   "source": [
    "data.show(1)"
   ]
  },
  {
   "cell_type": "code",
   "execution_count": 52,
   "metadata": {},
   "outputs": [
    {
     "data": {
      "application/vnd.jupyter.widget-view+json": {
       "model_id": "",
       "version_major": 2,
       "version_minor": 0
      },
      "text/plain": [
       "FloatProgress(value=0.0, bar_style='info', description='Progress:', layout=Layout(height='25px', width='50%'),…"
      ]
     },
     "metadata": {},
     "output_type": "display_data"
    },
    {
     "name": "stdout",
     "output_type": "stream",
     "text": [
      "{150: 0, 160: 1, 170: 2, 180: 0, 190: 1, 200: 2, 210: 0, 220: 1, 230: 2, 240: 0, 250: 1, 260: 2, 270: 0, 280: 1, 290: 2, 300: 0, 310: 1, 320: 2, 330: 0, 340: 1, 350: 2, 360: 0, 370: 1, 380: 2, 390: 0, 400: 1, 410: 2, 420: 0, 430: 1, 440: 2, 450: 0, 460: 1, 470: 2, 480: 0, 490: 1, 500: 2}"
     ]
    }
   ],
   "source": [
    "cat2_code = {i:e%3 for e,i in enumerate(range(150, 501, 10))}\n",
    "cat2_code"
   ]
  },
  {
   "cell_type": "code",
   "execution_count": 17,
   "metadata": {},
   "outputs": [
    {
     "data": {
      "application/vnd.jupyter.widget-view+json": {
       "model_id": "",
       "version_major": 2,
       "version_minor": 0
      },
      "text/plain": [
       "FloatProgress(value=0.0, bar_style='info', description='Progress:', layout=Layout(height='25px', width='50%'),…"
      ]
     },
     "metadata": {},
     "output_type": "display_data"
    }
   ],
   "source": [
    "data = data.withColumn(\"type_of_value\",\n",
    "              translate(cat2_code)(\"_c3\"))"
   ]
  },
  {
   "cell_type": "code",
   "execution_count": 18,
   "metadata": {},
   "outputs": [
    {
     "data": {
      "application/vnd.jupyter.widget-view+json": {
       "model_id": "",
       "version_major": 2,
       "version_minor": 0
      },
      "text/plain": [
       "FloatProgress(value=0.0, bar_style='info', description='Progress:', layout=Layout(height='25px', width='50%'),…"
      ]
     },
     "metadata": {},
     "output_type": "display_data"
    }
   ],
   "source": [
    "data_pivot = (data.groupby(\"hs9\",\"export_import\",\"country\",\"custom\",\"year_month\")\n",
    "                  .pivot(\"type_of_value\").agg(F.first(\"value\")))"
   ]
  },
  {
   "cell_type": "code",
   "execution_count": 19,
   "metadata": {},
   "outputs": [
    {
     "data": {
      "application/vnd.jupyter.widget-view+json": {
       "model_id": "",
       "version_major": 2,
       "version_minor": 0
      },
      "text/plain": [
       "FloatProgress(value=0.0, bar_style='info', description='Progress:', layout=Layout(height='25px', width='50%'),…"
      ]
     },
     "metadata": {},
     "output_type": "display_data"
    },
    {
     "name": "stdout",
     "output_type": "stream",
     "text": [
      "+---------+-------------+-------+------+----------+---+---------+---------+\n",
      "|      hs9|export_import|country|custom|year_month|  0|        1|        2|\n",
      "+---------+-------------+-------+------+----------+---+---------+---------+\n",
      "|000000110|            1|    107|     0|    202204|  0|        0|        0|\n",
      "|000000190|            1|    105|     0|    202211|  0| 29825339|107465844|\n",
      "|000000190|            1|    108|     0|    202105|  0|  2469734| 70599538|\n",
      "|000000190|            1|    108|     0|    202202|  0|  2327056| 83981290|\n",
      "|000000190|            1|    108|     0|    202207|  0|144532671| 85680996|\n",
      "+---------+-------------+-------+------+----------+---+---------+---------+\n",
      "only showing top 5 rows"
     ]
    }
   ],
   "source": [
    "data_pivot.show(5)"
   ]
  },
  {
   "cell_type": "code",
   "execution_count": 20,
   "metadata": {},
   "outputs": [
    {
     "data": {
      "application/vnd.jupyter.widget-view+json": {
       "model_id": "",
       "version_major": 2,
       "version_minor": 0
      },
      "text/plain": [
       "FloatProgress(value=0.0, bar_style='info', description='Progress:', layout=Layout(height='25px', width='50%'),…"
      ]
     },
     "metadata": {},
     "output_type": "display_data"
    }
   ],
   "source": [
    "data_pivot = (data_pivot.withColumnRenamed(\"0\", \"q1\")\n",
    "                        .withColumnRenamed(\"1\", \"q2\")\n",
    "                        .withColumnRenamed(\"2\", \"value\")\n",
    "             )"
   ]
  },
  {
   "cell_type": "code",
   "execution_count": 21,
   "metadata": {},
   "outputs": [
    {
     "data": {
      "application/vnd.jupyter.widget-view+json": {
       "model_id": "",
       "version_major": 2,
       "version_minor": 0
      },
      "text/plain": [
       "FloatProgress(value=0.0, bar_style='info', description='Progress:', layout=Layout(height='25px', width='50%'),…"
      ]
     },
     "metadata": {},
     "output_type": "display_data"
    }
   ],
   "source": [
    "data_pivot = data_pivot.select(\"year_month\", \"export_import\", \"country\", \"custom\", \"hs9\", \"q1\", \"q2\", \"value\")"
   ]
  },
  {
   "cell_type": "code",
   "execution_count": 22,
   "metadata": {},
   "outputs": [
    {
     "data": {
      "application/vnd.jupyter.widget-view+json": {
       "model_id": "",
       "version_major": 2,
       "version_minor": 0
      },
      "text/plain": [
       "FloatProgress(value=0.0, bar_style='info', description='Progress:', layout=Layout(height='25px', width='50%'),…"
      ]
     },
     "metadata": {},
     "output_type": "display_data"
    },
    {
     "name": "stdout",
     "output_type": "stream",
     "text": [
      "+----------+-------------+-------+------+---------+---+---------+---------+\n",
      "|year_month|export_import|country|custom|      hs9| q1|       q2|    value|\n",
      "+----------+-------------+-------+------+---------+---+---------+---------+\n",
      "|    202204|            1|    107|     0|000000110|  0|        0|        0|\n",
      "|    202211|            1|    105|     0|000000190|  0| 29825339|107465844|\n",
      "|    202105|            1|    108|     0|000000190|  0|  2469734| 70599538|\n",
      "|    202202|            1|    108|     0|000000190|  0|  2327056| 83981290|\n",
      "|    202207|            1|    108|     0|000000190|  0|144532671| 85680996|\n",
      "+----------+-------------+-------+------+---------+---+---------+---------+\n",
      "only showing top 5 rows"
     ]
    }
   ],
   "source": [
    "data_pivot.show(5)"
   ]
  },
  {
   "cell_type": "code",
   "execution_count": 23,
   "metadata": {},
   "outputs": [
    {
     "data": {
      "application/vnd.jupyter.widget-view+json": {
       "model_id": "",
       "version_major": 2,
       "version_minor": 0
      },
      "text/plain": [
       "FloatProgress(value=0.0, bar_style='info', description='Progress:', layout=Layout(height='25px', width='50%'),…"
      ]
     },
     "metadata": {},
     "output_type": "display_data"
    },
    {
     "name": "stdout",
     "output_type": "stream",
     "text": [
      "4354872"
     ]
    }
   ],
   "source": [
    "data_pivot.count()"
   ]
  },
  {
   "cell_type": "markdown",
   "metadata": {},
   "source": [
    "### Modify import data"
   ]
  },
  {
   "cell_type": "code",
   "execution_count": 49,
   "metadata": {},
   "outputs": [
    {
     "data": {
      "application/vnd.jupyter.widget-view+json": {
       "model_id": "",
       "version_major": 2,
       "version_minor": 0
      },
      "text/plain": [
       "FloatProgress(value=0.0, bar_style='info', description='Progress:', layout=Layout(height='25px', width='50%'),…"
      ]
     },
     "metadata": {},
     "output_type": "display_data"
    }
   ],
   "source": [
    "data = spark.read.csv('s3://trade-final-project-bucket/dataset/trade_im_2021_2023.csv')"
   ]
  },
  {
   "cell_type": "code",
   "execution_count": 25,
   "metadata": {},
   "outputs": [
    {
     "data": {
      "application/vnd.jupyter.widget-view+json": {
       "model_id": "",
       "version_major": 2,
       "version_minor": 0
      },
      "text/plain": [
       "FloatProgress(value=0.0, bar_style='info', description='Progress:', layout=Layout(height='25px', width='50%'),…"
      ]
     },
     "metadata": {},
     "output_type": "display_data"
    },
    {
     "name": "stdout",
     "output_type": "stream",
     "text": [
      "Total Columns: 12\n",
      "Total Rows: 10168931\n",
      "root\n",
      " |-- _c0: string (nullable = true)\n",
      " |-- _c1: string (nullable = true)\n",
      " |-- _c2: string (nullable = true)\n",
      " |-- _c3: string (nullable = true)\n",
      " |-- _c4: string (nullable = true)\n",
      " |-- _c5: string (nullable = true)\n",
      " |-- _c6: string (nullable = true)\n",
      " |-- _c7: string (nullable = true)\n",
      " |-- _c8: string (nullable = true)\n",
      " |-- _c9: string (nullable = true)\n",
      " |-- _c10: string (nullable = true)\n",
      " |-- _c11: string (nullable = true)"
     ]
    }
   ],
   "source": [
    "print('Total Columns: %d' % len(data.dtypes))\n",
    "print('Total Rows: %d' % data.count())\n",
    "data.printSchema()"
   ]
  },
  {
   "cell_type": "code",
   "execution_count": 26,
   "metadata": {},
   "outputs": [
    {
     "data": {
      "application/vnd.jupyter.widget-view+json": {
       "model_id": "",
       "version_major": 2,
       "version_minor": 0
      },
      "text/plain": [
       "FloatProgress(value=0.0, bar_style='info', description='Progress:', layout=Layout(height='25px', width='50%'),…"
      ]
     },
     "metadata": {},
     "output_type": "display_data"
    },
    {
     "name": "stdout",
     "output_type": "stream",
     "text": [
      "+----+----------+----------------+----------+----------------------+---------+------------+----------+------------+----+-----+----------+\n",
      "| _c0|       _c1|             _c2|       _c3|                   _c4|      _c5|         _c6|       _c7|         _c8| _c9| _c10|      _c11|\n",
      "+----+----------+----------------+----------+----------------------+---------+------------+----------+------------+----+-----+----------+\n",
      "|null|cat01_code|統計品目表(輸入)|cat02_code|統計品目表の数量・金額|area_code|          国| time_code|時間軸(年次)|unit|value|annotation|\n",
      "|   0| 010121100|       010121100|       110|                 単位2|    50205|    205_英国|2021000000|      2021年|null| ＮＯ|      null|\n",
      "|   1| 010121100|       010121100|       110|                 単位2|    50207|207_オランダ|2022000000|      2022年|null| ＮＯ|      null|\n",
      "|   2| 010121100|       010121100|       110|                 単位2|    50208|208_ベルギー|2022000000|      2022年|null| ＮＯ|      null|\n",
      "|   3| 010121100|       010121100|       110|                 単位2|    50210|210_フランス|2022000000|      2022年|null| ＮＯ|      null|\n",
      "|   4| 010121100|       010121100|       110|                 単位2|    50213|  213_ドイツ|2022000000|      2022年|null| ＮＯ|      null|\n",
      "|   5| 010121100|       010121100|       120|            合計_数量1|    50205|    205_英国|2021000000|      2021年|null|    0|      null|\n",
      "|   6| 010121100|       010121100|       120|            合計_数量1|    50207|207_オランダ|2022000000|      2022年|null|    0|      null|\n",
      "|   7| 010121100|       010121100|       120|            合計_数量1|    50208|208_ベルギー|2022000000|      2022年|null|    0|      null|\n",
      "|   8| 010121100|       010121100|       120|            合計_数量1|    50210|210_フランス|2022000000|      2022年|null|    0|      null|\n",
      "|   9| 010121100|       010121100|       120|            合計_数量1|    50213|  213_ドイツ|2022000000|      2022年|null|    0|      null|\n",
      "|  10| 010121100|       010121100|       130|            合計_数量2|    50205|    205_英国|2021000000|      2021年|null|    1|      null|\n",
      "|  11| 010121100|       010121100|       130|            合計_数量2|    50207|207_オランダ|2022000000|      2022年|null|    1|      null|\n",
      "|  12| 010121100|       010121100|       130|            合計_数量2|    50208|208_ベルギー|2022000000|      2022年|null|    1|      null|\n",
      "|  13| 010121100|       010121100|       130|            合計_数量2|    50210|210_フランス|2022000000|      2022年|null|    4|      null|\n",
      "|  14| 010121100|       010121100|       130|            合計_数量2|    50213|  213_ドイツ|2022000000|      2022年|null|    2|      null|\n",
      "|  15| 010121100|       010121100|       140|             合計_金額|    50205|    205_英国|2021000000|      2021年|千円| 3411|      null|\n",
      "|  16| 010121100|       010121100|       140|             合計_金額|    50207|207_オランダ|2022000000|      2022年|千円|25166|      null|\n",
      "|  17| 010121100|       010121100|       140|             合計_金額|    50208|208_ベルギー|2022000000|      2022年|千円| 5546|      null|\n",
      "|  18| 010121100|       010121100|       140|             合計_金額|    50210|210_フランス|2022000000|      2022年|千円|13190|      null|\n",
      "+----+----------+----------------+----------+----------------------+---------+------------+----------+------------+----+-----+----------+\n",
      "only showing top 20 rows"
     ]
    }
   ],
   "source": [
    "data.show()"
   ]
  },
  {
   "cell_type": "code",
   "execution_count": 53,
   "metadata": {},
   "outputs": [
    {
     "data": {
      "application/vnd.jupyter.widget-view+json": {
       "model_id": "",
       "version_major": 2,
       "version_minor": 0
      },
      "text/plain": [
       "FloatProgress(value=0.0, bar_style='info', description='Progress:', layout=Layout(height='25px', width='50%'),…"
      ]
     },
     "metadata": {},
     "output_type": "display_data"
    }
   ],
   "source": [
    "data = data.withColumn(\"_c3\", data._c3.cast('int')).filter(data._c3.isin(cat2))"
   ]
  },
  {
   "cell_type": "code",
   "execution_count": 54,
   "metadata": {},
   "outputs": [
    {
     "data": {
      "application/vnd.jupyter.widget-view+json": {
       "model_id": "",
       "version_major": 2,
       "version_minor": 0
      },
      "text/plain": [
       "FloatProgress(value=0.0, bar_style='info', description='Progress:', layout=Layout(height='25px', width='50%'),…"
      ]
     },
     "metadata": {},
     "output_type": "display_data"
    }
   ],
   "source": [
    "data = data.withColumn(\"month\",\n",
    "              translate(cat2_month)(\"_c3\"))"
   ]
  },
  {
   "cell_type": "code",
   "execution_count": 55,
   "metadata": {},
   "outputs": [
    {
     "data": {
      "application/vnd.jupyter.widget-view+json": {
       "model_id": "",
       "version_major": 2,
       "version_minor": 0
      },
      "text/plain": [
       "FloatProgress(value=0.0, bar_style='info', description='Progress:', layout=Layout(height='25px', width='50%'),…"
      ]
     },
     "metadata": {},
     "output_type": "display_data"
    }
   ],
   "source": [
    "data = (data.withColumn(\"year\",F.substring(\"_c7\", 1,4))\n",
    "            .withColumn(\"country\", F.substring(\"_c5\", 3, 5))\n",
    "            .withColumn(\"export_import\", F.lit(2))\n",
    "            .withColumn(\"custom\", F.lit(0))\n",
    "            .withColumnRenamed(\"_c1\",\"hs9\")\n",
    "            .withColumnRenamed(\"_c10\", \"value\")\n",
    "       )"
   ]
  },
  {
   "cell_type": "code",
   "execution_count": 56,
   "metadata": {},
   "outputs": [
    {
     "data": {
      "application/vnd.jupyter.widget-view+json": {
       "model_id": "",
       "version_major": 2,
       "version_minor": 0
      },
      "text/plain": [
       "FloatProgress(value=0.0, bar_style='info', description='Progress:', layout=Layout(height='25px', width='50%'),…"
      ]
     },
     "metadata": {},
     "output_type": "display_data"
    }
   ],
   "source": [
    "data = data.select(\"_c3\", \"hs9\", \"export_import\", \"country\", \"custom\", \"year\", \"month\", \"value\")"
   ]
  },
  {
   "cell_type": "code",
   "execution_count": 57,
   "metadata": {},
   "outputs": [
    {
     "data": {
      "application/vnd.jupyter.widget-view+json": {
       "model_id": "",
       "version_major": 2,
       "version_minor": 0
      },
      "text/plain": [
       "FloatProgress(value=0.0, bar_style='info', description='Progress:', layout=Layout(height='25px', width='50%'),…"
      ]
     },
     "metadata": {},
     "output_type": "display_data"
    }
   ],
   "source": [
    "data = data.withColumn(\"year_month\", F.concat(data.year,data.month))"
   ]
  },
  {
   "cell_type": "code",
   "execution_count": 58,
   "metadata": {},
   "outputs": [
    {
     "data": {
      "application/vnd.jupyter.widget-view+json": {
       "model_id": "",
       "version_major": 2,
       "version_minor": 0
      },
      "text/plain": [
       "FloatProgress(value=0.0, bar_style='info', description='Progress:', layout=Layout(height='25px', width='50%'),…"
      ]
     },
     "metadata": {},
     "output_type": "display_data"
    },
    {
     "name": "stdout",
     "output_type": "stream",
     "text": [
      "+---+---------+-------------+-------+------+----+-----+-----+----------+\n",
      "|_c3|      hs9|export_import|country|custom|year|month|value|year_month|\n",
      "+---+---------+-------------+-------+------+----+-----+-----+----------+\n",
      "|150|010121100|            2|    205|     0|2021|   01|    0|    202101|\n",
      "+---+---------+-------------+-------+------+----+-----+-----+----------+\n",
      "only showing top 1 row"
     ]
    }
   ],
   "source": [
    "data.show(1)"
   ]
  },
  {
   "cell_type": "code",
   "execution_count": 59,
   "metadata": {},
   "outputs": [
    {
     "data": {
      "application/vnd.jupyter.widget-view+json": {
       "model_id": "",
       "version_major": 2,
       "version_minor": 0
      },
      "text/plain": [
       "FloatProgress(value=0.0, bar_style='info', description='Progress:', layout=Layout(height='25px', width='50%'),…"
      ]
     },
     "metadata": {},
     "output_type": "display_data"
    }
   ],
   "source": [
    "data = data.withColumn(\"type_of_value\",\n",
    "              translate(cat2_code)(\"_c3\"))"
   ]
  },
  {
   "cell_type": "code",
   "execution_count": 60,
   "metadata": {},
   "outputs": [
    {
     "data": {
      "application/vnd.jupyter.widget-view+json": {
       "model_id": "",
       "version_major": 2,
       "version_minor": 0
      },
      "text/plain": [
       "FloatProgress(value=0.0, bar_style='info', description='Progress:', layout=Layout(height='25px', width='50%'),…"
      ]
     },
     "metadata": {},
     "output_type": "display_data"
    }
   ],
   "source": [
    "data_pivot2 = (data.groupby(\"hs9\",\"export_import\",\"country\",\"custom\",\"year_month\")\n",
    "                  .pivot(\"type_of_value\").agg(F.first(\"value\")))"
   ]
  },
  {
   "cell_type": "code",
   "execution_count": 61,
   "metadata": {},
   "outputs": [
    {
     "data": {
      "application/vnd.jupyter.widget-view+json": {
       "model_id": "",
       "version_major": 2,
       "version_minor": 0
      },
      "text/plain": [
       "FloatProgress(value=0.0, bar_style='info', description='Progress:', layout=Layout(height='25px', width='50%'),…"
      ]
     },
     "metadata": {},
     "output_type": "display_data"
    }
   ],
   "source": [
    "data_pivot2 = (data_pivot2.withColumnRenamed(\"0\", \"q1\")\n",
    "                        .withColumnRenamed(\"1\", \"q2\")\n",
    "                        .withColumnRenamed(\"2\", \"value\")\n",
    "             )"
   ]
  },
  {
   "cell_type": "code",
   "execution_count": 62,
   "metadata": {},
   "outputs": [
    {
     "data": {
      "application/vnd.jupyter.widget-view+json": {
       "model_id": "",
       "version_major": 2,
       "version_minor": 0
      },
      "text/plain": [
       "FloatProgress(value=0.0, bar_style='info', description='Progress:', layout=Layout(height='25px', width='50%'),…"
      ]
     },
     "metadata": {},
     "output_type": "display_data"
    }
   ],
   "source": [
    "data_pivot2 = data_pivot2.select(\"year_month\", \"export_import\", \"country\", \"custom\", \"hs9\", \"q1\", \"q2\", \"value\")"
   ]
  },
  {
   "cell_type": "code",
   "execution_count": 63,
   "metadata": {},
   "outputs": [
    {
     "data": {
      "application/vnd.jupyter.widget-view+json": {
       "model_id": "",
       "version_major": 2,
       "version_minor": 0
      },
      "text/plain": [
       "FloatProgress(value=0.0, bar_style='info', description='Progress:', layout=Layout(height='25px', width='50%'),…"
      ]
     },
     "metadata": {},
     "output_type": "display_data"
    },
    {
     "name": "stdout",
     "output_type": "stream",
     "text": [
      "+----------+-------------+-------+------+---------+---+---+-----+\n",
      "|year_month|export_import|country|custom|      hs9| q1| q2|value|\n",
      "+----------+-------------+-------+------+---------+---+---+-----+\n",
      "|    202207|            2|    103|     0|000000011|  0|  0|    0|\n",
      "|    202311|            2|    143|     0|000000011|  0|  0|    0|\n",
      "|    202110|            2|    147|     0|000000011|  0|  0|    0|\n",
      "|    202202|            2|    147|     0|000000011|  0|  0|    0|\n",
      "|    202304|            2|    147|     0|000000011|  0|  0|    0|\n",
      "+----------+-------------+-------+------+---------+---+---+-----+\n",
      "only showing top 5 rows"
     ]
    }
   ],
   "source": [
    "data_pivot2.show(5)"
   ]
  },
  {
   "cell_type": "code",
   "execution_count": 64,
   "metadata": {},
   "outputs": [
    {
     "data": {
      "application/vnd.jupyter.widget-view+json": {
       "model_id": "",
       "version_major": 2,
       "version_minor": 0
      },
      "text/plain": [
       "FloatProgress(value=0.0, bar_style='info', description='Progress:', layout=Layout(height='25px', width='50%'),…"
      ]
     },
     "metadata": {},
     "output_type": "display_data"
    },
    {
     "name": "stdout",
     "output_type": "stream",
     "text": [
      "3024240"
     ]
    }
   ],
   "source": [
    "data_pivot2.count()"
   ]
  },
  {
   "cell_type": "markdown",
   "metadata": {},
   "source": [
    "### Merge two dataframes"
   ]
  },
  {
   "cell_type": "code",
   "execution_count": 65,
   "metadata": {},
   "outputs": [
    {
     "data": {
      "application/vnd.jupyter.widget-view+json": {
       "model_id": "",
       "version_major": 2,
       "version_minor": 0
      },
      "text/plain": [
       "FloatProgress(value=0.0, bar_style='info', description='Progress:', layout=Layout(height='25px', width='50%'),…"
      ]
     },
     "metadata": {},
     "output_type": "display_data"
    }
   ],
   "source": [
    "data_all = data_pivot.union(data_pivot2)"
   ]
  },
  {
   "cell_type": "code",
   "execution_count": 66,
   "metadata": {},
   "outputs": [
    {
     "data": {
      "application/vnd.jupyter.widget-view+json": {
       "model_id": "",
       "version_major": 2,
       "version_minor": 0
      },
      "text/plain": [
       "FloatProgress(value=0.0, bar_style='info', description='Progress:', layout=Layout(height='25px', width='50%'),…"
      ]
     },
     "metadata": {},
     "output_type": "display_data"
    },
    {
     "name": "stdout",
     "output_type": "stream",
     "text": [
      "7379112"
     ]
    }
   ],
   "source": [
    "data_all.count()"
   ]
  },
  {
   "cell_type": "code",
   "execution_count": 67,
   "metadata": {},
   "outputs": [
    {
     "data": {
      "application/vnd.jupyter.widget-view+json": {
       "model_id": "",
       "version_major": 2,
       "version_minor": 0
      },
      "text/plain": [
       "FloatProgress(value=0.0, bar_style='info', description='Progress:', layout=Layout(height='25px', width='50%'),…"
      ]
     },
     "metadata": {},
     "output_type": "display_data"
    }
   ],
   "source": [
    "data_new = data_all.select([F.col(column).cast(LongType()).alias(column) for column in data_all.columns])"
   ]
  },
  {
   "cell_type": "code",
   "execution_count": 68,
   "metadata": {},
   "outputs": [
    {
     "data": {
      "application/vnd.jupyter.widget-view+json": {
       "model_id": "",
       "version_major": 2,
       "version_minor": 0
      },
      "text/plain": [
       "FloatProgress(value=0.0, bar_style='info', description='Progress:', layout=Layout(height='25px', width='50%'),…"
      ]
     },
     "metadata": {},
     "output_type": "display_data"
    },
    {
     "name": "stdout",
     "output_type": "stream",
     "text": [
      "root\n",
      " |-- year_month: long (nullable = true)\n",
      " |-- export_import: long (nullable = false)\n",
      " |-- country: long (nullable = true)\n",
      " |-- custom: long (nullable = false)\n",
      " |-- hs9: long (nullable = true)\n",
      " |-- q1: long (nullable = true)\n",
      " |-- q2: long (nullable = true)\n",
      " |-- value: long (nullable = true)"
     ]
    }
   ],
   "source": [
    "data_new.printSchema()"
   ]
  },
  {
   "cell_type": "code",
   "execution_count": 69,
   "metadata": {},
   "outputs": [
    {
     "data": {
      "application/vnd.jupyter.widget-view+json": {
       "model_id": "",
       "version_major": 2,
       "version_minor": 0
      },
      "text/plain": [
       "FloatProgress(value=0.0, bar_style='info', description='Progress:', layout=Layout(height='25px', width='50%'),…"
      ]
     },
     "metadata": {},
     "output_type": "display_data"
    }
   ],
   "source": [
    "output_path = \"s3://trade-final-project-bucket/dataset/trade_2021_2023.parquet\"\n",
    "data_new.write.parquet(output_path)"
   ]
  },
  {
   "cell_type": "code",
   "execution_count": 70,
   "metadata": {},
   "outputs": [
    {
     "data": {
      "application/vnd.jupyter.widget-view+json": {
       "model_id": "",
       "version_major": 2,
       "version_minor": 0
      },
      "text/plain": [
       "FloatProgress(value=0.0, bar_style='info', description='Progress:', layout=Layout(height='25px', width='50%'),…"
      ]
     },
     "metadata": {},
     "output_type": "display_data"
    }
   ],
   "source": [
    "data_check = spark.read.parquet(\"s3://trade-final-project-bucket/dataset/trade_2021_2023.parquet\")"
   ]
  },
  {
   "cell_type": "code",
   "execution_count": 71,
   "metadata": {},
   "outputs": [
    {
     "data": {
      "application/vnd.jupyter.widget-view+json": {
       "model_id": "",
       "version_major": 2,
       "version_minor": 0
      },
      "text/plain": [
       "FloatProgress(value=0.0, bar_style='info', description='Progress:', layout=Layout(height='25px', width='50%'),…"
      ]
     },
     "metadata": {},
     "output_type": "display_data"
    },
    {
     "name": "stdout",
     "output_type": "stream",
     "text": [
      "Total Columns: 8\n",
      "Total Rows: 7379112\n",
      "root\n",
      " |-- year_month: long (nullable = true)\n",
      " |-- export_import: long (nullable = true)\n",
      " |-- country: long (nullable = true)\n",
      " |-- custom: long (nullable = true)\n",
      " |-- hs9: long (nullable = true)\n",
      " |-- q1: long (nullable = true)\n",
      " |-- q2: long (nullable = true)\n",
      " |-- value: long (nullable = true)"
     ]
    }
   ],
   "source": [
    "print('Total Columns: %d' % len(data_check.dtypes))\n",
    "print('Total Rows: %d' % data_check.count())\n",
    "data_check.printSchema()"
   ]
  },
  {
   "cell_type": "code",
   "execution_count": null,
   "metadata": {},
   "outputs": [],
   "source": []
  }
 ],
 "metadata": {
  "kernelspec": {
   "display_name": "PySpark",
   "language": "",
   "name": "pysparkkernel"
  },
  "language_info": {
   "codemirror_mode": {
    "name": "python",
    "version": 3
   },
   "mimetype": "text/x-python",
   "name": "pyspark",
   "pygments_lexer": "python3"
  }
 },
 "nbformat": 4,
 "nbformat_minor": 4
}
